{
 "cells": [
  {
   "cell_type": "code",
   "execution_count": 3,
   "id": "d7cec60e-49e3-4dbd-8b8a-82f03111daaa",
   "metadata": {},
   "outputs": [],
   "source": [
    "import torch\n",
    "from torchvision import datasets, transforms\n",
    "import helper"
   ]
  },
  {
   "cell_type": "code",
   "execution_count": null,
   "id": "fdc23dde-e50f-4949-a151-a96dc908df00",
   "metadata": {},
   "outputs": [],
   "source": [
    "# Define a transform to normalize the data\n",
    "transform = transforms.Compose([transforms.ToTensor(),\n",
    "                                transforms.Normalize((0.5,), (0.5,))])\n",
    "\n",
    "# Download full-dataset with transformations 'transform'\n",
    "trainset = datasets.FashionMNIST('~/.pytorch/F_MNIST_data/', download=True, train=True, transform=transform)\n",
    "\n",
    "# Load the data in batches\n",
    "trainloader = torch.utils.data.DataLoader(trainset, batch_size=64, shuffle = True)\n",
    "\n",
    "#Download and load the test data\n",
    "testset = datasets.FashionMNIST('~/.pytorch/F_MNIST_data/', download=True, train=False, transform=transform)\n",
    "testloader = torch.utils.data.DataLoader(testset, batch_size=64, shuffle=True)"
   ]
  },
  {
   "cell_type": "code",
   "execution_count": 47,
   "id": "2d35694c-3300-4145-b2ff-fd44dabc13e5",
   "metadata": {},
   "outputs": [
    {
     "name": "stdout",
     "output_type": "stream",
     "text": [
      "torch.Size([1, 28, 28])\n"
     ]
    },
    {
     "data": {
      "text/plain": [
       "<AxesSubplot:>"
      ]
     },
     "execution_count": 47,
     "metadata": {},
     "output_type": "execute_result"
    },
    {
     "data": {
      "image/png": "[encoded data removed]",
      "text/plain": [
       "<Figure size 432x288 with 1 Axes>"
      ]
     },
     "metadata": {
      "needs_background": "light"
     },
     "output_type": "display_data"
    }
   ],
   "source": [
    "image, label = next(iter(trainloader))\n",
    "print(image[4].shape)\n",
    "helper.imshow(image[4,:])"
   ]
  },
  {
   "cell_type": "code",
   "execution_count": 35,
   "id": "308fae51-ddd8-4b3b-81f8-afc594af1a43",
   "metadata": {},
   "outputs": [],
   "source": [
    "# Defining Network Architecture\n",
    "\n",
    "class Network(nn.Module):\n",
    "    def __init__(self):\n",
    "        super().__init__()\n",
    "        \n",
    "        self.hidden1 = nn.Linear(784, 128)\n",
    "        self.act1 = nn.ReLU()\n",
    "        self.hidden2 = nn.Linear(128,64)\n",
    "        self.act2 = nn.ReLU()\n",
    "        self.output = nn.Linear(64,10)\n",
    "        self.act3 = nn.LogSoftmax(dim=1)\n",
    "    \n",
    "    def forward(self, X):\n",
    "        \n",
    "        X = self.hidden1(X)\n",
    "        X = self.act1(X)\n",
    "        X = self.hidden2(X)\n",
    "        X = self.act2(X)\n",
    "        X = self.output(X)\n",
    "        X = self.act3(X)\n",
    "        \n",
    "        return X\n"
   ]
  },
  {
   "cell_type": "code",
   "execution_count": 36,
   "id": "a903f5f6-9203-4110-9328-6d7e89844285",
   "metadata": {},
   "outputs": [],
   "source": [
    "model = Network()"
   ]
  },
  {
   "cell_type": "code",
   "execution_count": 37,
   "id": "ce5d2d21-d53f-412f-a0eb-5f6f13fdab08",
   "metadata": {},
   "outputs": [],
   "source": [
    "criterion = nn.NLLLoss()\n",
    "optimizer = torch.optim.Adam(model.parameters(), lr = 0.01)"
   ]
  },
  {
   "cell_type": "code",
   "execution_count": 49,
   "id": "524c6e62-9c35-49f9-b493-9fd62ca226c4",
   "metadata": {},
   "outputs": [
    {
     "name": "stdout",
     "output_type": "stream",
     "text": [
      "Training loss: 0.45179532656569216\n",
      "Training loss: 0.41768765320846524\n",
      "Training loss: 0.4082094918150129\n",
      "Training loss: 0.39449284678456115\n",
      "Training loss: 0.3863467324548947\n"
     ]
    }
   ],
   "source": [
    "for e in range(5):\n",
    "    \n",
    "    train_loss = 0\n",
    "    for income, labels in trainloader:\n",
    "                \n",
    "        optimizer.zero_grad()\n",
    "        \n",
    "        income = income.reshape(income.shape[0], -1)\n",
    "        output = model(income)\n",
    "        \n",
    "        loss = criterion(output, labels)\n",
    "        \n",
    "        loss.backward()\n",
    "        \n",
    "        optimizer.step()\n",
    "        train_loss  += loss.item()\n",
    "        \n",
    "    print(f\"Training loss: {train_loss/len(trainloader)}\")\n"
   ]
  },
  {
   "cell_type": "code",
   "execution_count": null,
   "id": "f119ffea-a23a-4bb7-85ed-e7edcc132057",
   "metadata": {},
   "outputs": [],
   "source": [
    "torch.softmax(img, dim = 1)"
   ]
  },
  {
   "cell_type": "code",
   "execution_count": 67,
   "id": "9569db3a-ea90-4630-a9d1-55c2b1a3a329",
   "metadata": {},
   "outputs": [
    {
     "data": {
      "image/png": "[encoded data removed]",
      "text/plain": [
       "<Figure size 432x648 with 2 Axes>"
      ]
     },
     "metadata": {
      "image/png": {
       "height": 216,
       "width": 424
      },
      "needs_background": "light"
     },
     "output_type": "display_data"
    }
   ],
   "source": [
    "%matplotlib inline\n",
    "%config InlineBackend.figure_format = 'retina'\n",
    "\n",
    "import helper\n",
    "\n",
    "# Test out your network!\n",
    "\n",
    "dataiter = iter(testloader)\n",
    "images, labels = dataiter.next()\n",
    "img = images[1]\n",
    "# Convert 2D image to 1D vector\n",
    "img = img.resize_(1, 784)\n",
    "\n",
    "# TODO: Calculate the class probabilities (softmax) for img\n",
    "output = model(img)\n",
    "ps = torch.exp(output)\n",
    "\n",
    "# Plot the image and probabilities\n",
    "helper.view_classify(img.resize_(1, 28, 28), ps, version='Fashion')"
   ]
  },
  {
   "cell_type": "markdown",
   "id": "a61a1ab5-413f-4368-aa28-346ea98017a2",
   "metadata": {},
   "source": [
    "Exercise: Implement the validation loop below and print out the total accuracy after the loop. You can largely copy and paste the code from above, but I suggest typing it in because writing it out yourself is essential for building the skill. In general you'll always learn more by typing it rather than copy-pasting. You should be able to get an accuracy above 80%."
   ]
  },
  {
   "cell_type": "code",
   "execution_count": null,
   "id": "3e2ddb81-46e7-4de0-bcd4-bb2d17e5417f",
   "metadata": {},
   "outputs": [],
   "source": []
  }
 ],
 "metadata": {
  "kernelspec": {
   "display_name": "Python 3 (ipykernel)",
   "language": "python",
   "name": "python3"
  },
  "language_info": {
   "codemirror_mode": {
    "name": "ipython",
    "version": 3
   },
   "file_extension": ".py",
   "mimetype": "text/x-python",
   "name": "python",
   "nbconvert_exporter": "python",
   "pygments_lexer": "ipython3",
   "version": "3.9.11"
  }
 },
 "nbformat": 4,
 "nbformat_minor": 5
}
