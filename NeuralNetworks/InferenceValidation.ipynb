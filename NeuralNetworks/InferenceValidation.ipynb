{
 "cells": [
  {
   "cell_type": "code",
   "execution_count": 1,
   "id": "08c47be0-42db-43de-b208-1551dec51121",
   "metadata": {},
   "outputs": [],
   "source": [
    "import torch\n",
    "from torch.nn import functional as F\n",
    "from torchvision import datasets, transforms\n",
    "import helper"
   ]
  },
  {
   "cell_type": "markdown",
   "id": "1f8fb585-e589-4776-8ac1-87d15c522da4",
   "metadata": {},
   "source": [
    "Exercise: Implement the validation loop below and print out the total accuracy after the loop. You can largely copy and paste the code from above, but I suggest typing it in because writing it out yourself is essential for building the skill. In general you'll always learn more by typing it rather than copy-pasting. You should be able to get an accuracy above 80%."
   ]
  },
  {
   "cell_type": "code",
   "execution_count": 2,
   "id": "7641c024-5477-4524-9dae-435b3fab3a10",
   "metadata": {},
   "outputs": [],
   "source": [
    "transform = transforms.Compose([transforms.ToTensor(), transforms.Normalize((0.5,), (0.5,))])\n",
    "\n",
    "trainset = datasets.FashionMNIST('~/.pytorch/F_MNIST_data/', download = True, train = True, transform = transform)\n",
    "trainloader = torch.utils.data.DataLoader(trainset, batch_size = 64, shuffle = True)\n",
    "\n",
    "testset = datasets.FashionMNIST('~/.pytorch/F_MNIST_data/', download = True, train = False, transform = transform)\n",
    "testloader = torch.utils.data.DataLoader(testset, batch_size = 64, shuffle = True)"
   ]
  },
  {
   "cell_type": "code",
   "execution_count": 3,
   "id": "ca421696-ee79-4d35-967d-5aa883b1742f",
   "metadata": {},
   "outputs": [],
   "source": [
    "from torch import nn, optim\n",
    "import torch.nn.functional as F\n",
    "\n",
    "class Classifier(nn.Module):\n",
    "    \n",
    "    def __init__(self):\n",
    "        super().__init__()\n",
    "        \n",
    "        self.fc1 = nn.Linear(784, 256)\n",
    "        self.fc2 = nn.Linear(256, 128)\n",
    "        self.fc3 = nn.Linear(128, 64)\n",
    "        self.fc4 = nn.Linear(64, 10)\n",
    "        \n",
    "    def forward(self, x):\n",
    "        # make sure input tensor is flattened\n",
    "        x = x.view(x.shape[0], -1)\n",
    "        \n",
    "        x = F.relu(self.fc1(x))\n",
    "        x = F.relu(self.fc2(x))\n",
    "        x = F.relu(self.fc3(x))\n",
    "        x = F.log_softmax(self.fc4(x), dim = 1)\n",
    "        \n",
    "        return x"
   ]
  },
  {
   "cell_type": "code",
   "execution_count": 4,
   "id": "41395e64-c1d9-4c7a-b9ee-28ed704a4940",
   "metadata": {},
   "outputs": [
    {
     "name": "stdout",
     "output_type": "stream",
     "text": [
      "torch.Size([64, 10])\n"
     ]
    }
   ],
   "source": [
    "model = Classifier()\n",
    "\n",
    "images, labels = next(iter(testloader))\n",
    "\n",
    "ps = torch.exp(model(images))\n",
    "\n",
    "print(ps.shape)"
   ]
  },
  {
   "cell_type": "code",
   "execution_count": 5,
   "id": "33b89258-cab3-43c8-94e1-b08552784276",
   "metadata": {},
   "outputs": [
    {
     "name": "stdout",
     "output_type": "stream",
     "text": [
      "tensor([[8],\n",
      "        [0],\n",
      "        [0],\n",
      "        [0],\n",
      "        [0],\n",
      "        [8],\n",
      "        [0],\n",
      "        [7],\n",
      "        [0],\n",
      "        [0]])\n"
     ]
    }
   ],
   "source": [
    "top_p, top_class = ps.topk(1, dim=1)\n",
    "# Look at the most likely classes for the first 10 examples\n",
    "print(top_class[:10,:])"
   ]
  },
  {
   "cell_type": "code",
   "execution_count": 6,
   "id": "a80f1750-97e3-4472-a0f0-647514a55371",
   "metadata": {},
   "outputs": [],
   "source": [
    "equals = top_class == labels.view(*top_class.shape)"
   ]
  },
  {
   "cell_type": "code",
   "execution_count": 7,
   "id": "6e749a70-4e35-4138-b0a4-d25eeb8e8cc0",
   "metadata": {},
   "outputs": [],
   "source": [
    "accuracy = torch.mean(equals.type(torch.FloatTensor))"
   ]
  },
  {
   "cell_type": "code",
   "execution_count": 8,
   "id": "0d9a08dd-764b-4fa6-89ad-96e46a2223d0",
   "metadata": {
    "scrolled": true,
    "tags": []
   },
   "outputs": [
    {
     "name": "stdout",
     "output_type": "stream",
     "text": [
      "Accuracy: 87.5%\n",
      "Training loss: 0.5133283532091549\n",
      "Test loss: 0.4327923274913411\n",
      "Accuracy: 87.5%\n",
      "Training loss: 0.3930982140494562\n",
      "Test loss: 0.43635325494465554\n",
      "Accuracy: 93.75%\n",
      "Training loss: 0.3609409800200447\n",
      "Test loss: 0.3971940689975289\n",
      "Accuracy: 81.25%\n",
      "Training loss: 0.33569927110886777\n",
      "Test loss: 0.3890457047019035\n",
      "Accuracy: 87.5%\n",
      "Training loss: 0.31594785996305663\n",
      "Test loss: 0.4127750051249364\n",
      "Accuracy: 93.75%\n",
      "Training loss: 0.3060169090260702\n",
      "Test loss: 0.3635257576016863\n",
      "Accuracy: 93.75%\n",
      "Training loss: 0.2904417391286603\n",
      "Test loss: 0.4017871641049719\n",
      "Accuracy: 81.25%\n",
      "Training loss: 0.2824273955926839\n",
      "Test loss: 0.3586532253368645\n",
      "Accuracy: 81.25%\n",
      "Training loss: 0.2729918110464364\n",
      "Test loss: 0.36395327661447463\n",
      "Accuracy: 81.25%\n",
      "Training loss: 0.26957833429754796\n",
      "Test loss: 0.3707465647607093\n",
      "Accuracy: 93.75%\n",
      "Training loss: 0.2603224001959888\n",
      "Test loss: 0.3645322471857071\n",
      "Accuracy: 87.5%\n",
      "Training loss: 0.2515451711600523\n",
      "Test loss: 0.37044148711831704\n",
      "Accuracy: 93.75%\n",
      "Training loss: 0.24519895184745413\n",
      "Test loss: 0.3564681555055509\n",
      "Accuracy: 87.5%\n",
      "Training loss: 0.24798996358124942\n",
      "Test loss: 0.3636757865263398\n",
      "Accuracy: 62.5%\n",
      "Training loss: 0.2381527800994641\n",
      "Test loss: 0.369754700191841\n"
     ]
    }
   ],
   "source": [
    "criterion = nn.NLLLoss()\n",
    "optimizer = optim.Adam(model.parameters(), lr = 0.003)\n",
    "\n",
    "epochs = 15\n",
    "steps = 0\n",
    "\n",
    "train_losses, test_losses = [], []\n",
    "\n",
    "for e in range(epochs):\n",
    "    \n",
    "    train_loss = 0\n",
    "    test_loss = 0\n",
    "    \n",
    "    for images, labels in trainloader:\n",
    "        \n",
    "        optimizer.zero_grad()\n",
    "        \n",
    "        log_ps = model(images)\n",
    "        loss = criterion(log_ps, labels)\n",
    "        loss.backward()\n",
    "        optimizer.step()\n",
    "        \n",
    "        train_loss += loss.item()\n",
    "        \n",
    "    with torch.no_grad():\n",
    "        for images, labels in testloader:\n",
    "\n",
    "            ps = model(images)\n",
    "            loss = criterion(ps, labels)\n",
    "            test_loss += loss.item()\n",
    "            \n",
    "            _, top_class = ps.topk(1, dim =1)\n",
    "            equals = top_class == labels.view(*top_class.shape)\n",
    "            accuracy = torch.mean(equals.type(torch.FloatTensor))\n",
    "            \n",
    "            \n",
    "        print(f'Accuracy: {accuracy.item()*100}%')\n",
    "        print(f\"Training loss: {train_loss/len(trainloader)}\")\n",
    "        print(f\"Test loss: {test_loss/len(testloader)}\")\n",
    "        \n",
    "        train_losses.append(train_loss)\n",
    "        test_losses.append(test_loss)"
   ]
  },
  {
   "cell_type": "markdown",
   "id": "634d6f5b-bf6d-4a6f-8245-f66a0e7c0dbc",
   "metadata": {},
   "source": [
    "Exercise: Add dropout to your model and train it on Fashion-MNIST again. See if you can get a lower validation loss or higher accuracy."
   ]
  },
  {
   "cell_type": "code",
   "execution_count": 9,
   "id": "1b2e4440-3953-4a04-beee-2e543915c5d8",
   "metadata": {},
   "outputs": [],
   "source": [
    "## TODO: Define your model with dropout added\n",
    "from torch import nn, optim\n",
    "import torch.nn.functional as F\n",
    "\n",
    "class Classifier(nn.Module):\n",
    "    \n",
    "    def __init__(self):\n",
    "        super().__init__()\n",
    "        \n",
    "        self.fc1  = nn.Linear(784, 256)\n",
    "        self.fc2  = nn.Linear(256, 128)\n",
    "        self.fc3  = nn.Linear(128, 64)\n",
    "        self.fc4  = nn.Linear(64, 10)\n",
    "        \n",
    "        self.drop = nn.Dropout(p = 0.2)\n",
    "        \n",
    "    def forward(self, x):\n",
    "        # make sure input tensor is flattened\n",
    "        x = x.view(x.shape[0], -1)\n",
    "        \n",
    "        x = self.drop(F.relu(self.fc1(x)))\n",
    "        x = self.drop(F.relu(self.fc2(x)))\n",
    "        x = self.drop(F.relu(self.fc3(x)))\n",
    "        x = F.log_softmax(self.fc4(x), dim = 1)\n",
    "        \n",
    "        return x"
   ]
  },
  {
   "cell_type": "code",
   "execution_count": 17,
   "id": "61d70b6c-ab6d-4eb9-8995-798295efcf5a",
   "metadata": {},
   "outputs": [
    {
     "name": "stdout",
     "output_type": "stream",
     "text": [
      "0.6065709929285782\n",
      "tensor(127.3906) tensor(0.8114)\n",
      "0.4840193868700121\n",
      "tensor(129.4688) tensor(0.8246)\n",
      "0.4527153757684775\n",
      "tensor(130.6562) tensor(0.8322)\n",
      "0.4377439555201703\n",
      "tensor(130.4375) tensor(0.8308)\n",
      "0.422101357026395\n",
      "tensor(131.4062) tensor(0.8370)\n",
      "0.4125680218277964\n",
      "tensor(132.6094) tensor(0.8446)\n",
      "0.4075646700698938\n",
      "tensor(131.3281) tensor(0.8365)\n",
      "0.4036918084568052\n",
      "tensor(132.0625) tensor(0.8412)\n",
      "0.3920085062064342\n",
      "tensor(133.5312) tensor(0.8505)\n",
      "0.3852792697102785\n",
      "tensor(132.7656) tensor(0.8456)\n",
      "0.3883709457319683\n",
      "tensor(132.9688) tensor(0.8469)\n",
      "0.3819753069645052\n",
      "tensor(133.5156) tensor(0.8504)\n",
      "0.37365271045423265\n",
      "tensor(132.8281) tensor(0.8460)\n",
      "0.3796292755490681\n",
      "tensor(133.0156) tensor(0.8472)\n",
      "0.3715645669937642\n",
      "tensor(133.7500) tensor(0.8519)\n"
     ]
    }
   ],
   "source": [
    "## TODO: Train your model with dropout, and monitor the training progress with the validation loss and accuracy\n",
    "\n",
    "model2 = Classifier()\n",
    "optimizer = optim.Adam(model2.parameters(), lr = 0.003)\n",
    "epochs = 15\n",
    "for e in range(epochs):\n",
    "    \n",
    "    train_loss = 0\n",
    "    accuracy_score = 0\n",
    "    \n",
    "    for images, labels in trainloader:\n",
    "\n",
    "        optimizer.zero_grad()\n",
    "        \n",
    "        outputs = model2(images)\n",
    "        loss = criterion(outputs, labels)\n",
    "        loss.backward()\n",
    "        optimizer.step()\n",
    "        \n",
    "        train_loss += loss.item()\n",
    "        \n",
    "    print(train_loss/len(trainloader))\n",
    "    \n",
    "    with torch.no_grad():\n",
    "        model2.eval()\n",
    "        \n",
    "        for images, labels in testloader:\n",
    "\n",
    "            ps = torch.exp(model2(images))\n",
    "            \n",
    "            _, top_class = ps.topk(1, dim =1)\n",
    "            equals = top_class == labels.view(*top_class.shape)\n",
    "            accuracy = torch.mean(equals.type(torch.FloatTensor))\n",
    "            \n",
    "            accuracy_score += accuracy\n",
    "            model2.train()\n",
    "            \n",
    "        print(accuracy_score, accuracy_score/len(testloader))"
   ]
  },
  {
   "cell_type": "code",
   "execution_count": 12,
   "id": "4e5e8658-4e51-44c8-8339-5ea00a2ac65c",
   "metadata": {},
   "outputs": [
    {
     "data": {
      "text/plain": [
       "Classifier(\n",
       "  (fc1): Linear(in_features=784, out_features=256, bias=True)\n",
       "  (fc2): Linear(in_features=256, out_features=128, bias=True)\n",
       "  (fc3): Linear(in_features=128, out_features=64, bias=True)\n",
       "  (fc4): Linear(in_features=64, out_features=10, bias=True)\n",
       ")"
      ]
     },
     "execution_count": 12,
     "metadata": {},
     "output_type": "execute_result"
    }
   ],
   "source": [
    "model.train()"
   ]
  },
  {
   "cell_type": "code",
   "execution_count": null,
   "id": "18752183-5844-437b-8567-b5eca38f7b80",
   "metadata": {},
   "outputs": [],
   "source": [
    "model2.train()"
   ]
  },
  {
   "cell_type": "markdown",
   "id": "d3006df0-3ece-4ec1-a67b-7b875f4dcf4d",
   "metadata": {},
   "source": [
    "# SAVING MODELS"
   ]
  },
  {
   "cell_type": "code",
   "execution_count": null,
   "id": "be0d1549-51b6-413e-8ac0-581f5a477e9c",
   "metadata": {},
   "outputs": [],
   "source": [
    "model = fc_model.Network(784, 10, [512, 256, 128]) # --> input, output, hidden layers\n",
    "criterion = nn.NLLLoss()\n",
    "optimizer = optim.Adam(model.parameters(), lr=0.001)\n",
    "fc_model.train(model, trainloader, testloader, criterion, optimizer, epochs=2)"
   ]
  },
  {
   "cell_type": "code",
   "execution_count": 18,
   "id": "2dd47fbd-45d8-4997-8243-2fa574a58bda",
   "metadata": {},
   "outputs": [
    {
     "name": "stdout",
     "output_type": "stream",
     "text": [
      "Our model: \n",
      "\n",
      " Classifier(\n",
      "  (fc1): Linear(in_features=784, out_features=256, bias=True)\n",
      "  (fc2): Linear(in_features=256, out_features=128, bias=True)\n",
      "  (fc3): Linear(in_features=128, out_features=64, bias=True)\n",
      "  (fc4): Linear(in_features=64, out_features=10, bias=True)\n",
      ") \n",
      "\n",
      "The state dict keys: \n",
      "\n",
      " odict_keys(['fc1.weight', 'fc1.bias', 'fc2.weight', 'fc2.bias', 'fc3.weight', 'fc3.bias', 'fc4.weight', 'fc4.bias'])\n"
     ]
    }
   ],
   "source": [
    "print(\"Our model: \\n\\n\", model, '\\n')\n",
    "print(\"The state dict keys: \\n\\n\", model.state_dict().keys())"
   ]
  },
  {
   "cell_type": "code",
   "execution_count": 19,
   "id": "b95bbc64-faeb-4cd0-83aa-9e784dddd395",
   "metadata": {},
   "outputs": [],
   "source": [
    "torch.save(model.state_dict(), 'checkpoint.pth')"
   ]
  },
  {
   "cell_type": "code",
   "execution_count": 20,
   "id": "df2c67f3-873b-4491-be0f-4757fc2f1457",
   "metadata": {},
   "outputs": [
    {
     "name": "stdout",
     "output_type": "stream",
     "text": [
      "odict_keys(['fc1.weight', 'fc1.bias', 'fc2.weight', 'fc2.bias', 'fc3.weight', 'fc3.bias', 'fc4.weight', 'fc4.bias'])\n"
     ]
    }
   ],
   "source": [
    "state_dict = torch.load('checkpoint.pth')\n",
    "print(state_dict.keys())"
   ]
  },
  {
   "cell_type": "code",
   "execution_count": 21,
   "id": "b0e31bd8-a94d-423e-a71a-6acd1ce967df",
   "metadata": {},
   "outputs": [
    {
     "data": {
      "text/plain": [
       "<All keys matched successfully>"
      ]
     },
     "execution_count": 21,
     "metadata": {},
     "output_type": "execute_result"
    }
   ],
   "source": [
    "model.load_state_dict(state_dict)"
   ]
  },
  {
   "cell_type": "code",
   "execution_count": null,
   "id": "2d5b49ea-7d34-4553-a98c-94a4cff68596",
   "metadata": {},
   "outputs": [],
   "source": [
    "checkpoint = {'input_size': 784,\n",
    "              'output_size': 10,\n",
    "              'hidden_layers': [each.out_features for each in model.hidden_layers],\n",
    "              'state_dict': model.state_dict()}\n",
    "\n",
    "torch.save(checkpoint, 'checkpoint.pth')"
   ]
  },
  {
   "cell_type": "code",
   "execution_count": null,
   "id": "64037b9b-dc38-469f-b40e-60736bc996fe",
   "metadata": {},
   "outputs": [],
   "source": [
    "def load_checkpoint(filepath):\n",
    "    checkpoint = torch.load(filepath)\n",
    "    model = fc_model.Network(checkpoint['input_size'],\n",
    "                             checkpoint['output_size'],\n",
    "                             checkpoint['hidden_layers'])\n",
    "    model.load_state_dict(checkpoint['state_dict'])\n",
    "    \n",
    "    return model"
   ]
  },
  {
   "cell_type": "code",
   "execution_count": null,
   "id": "0908e77f-a832-4e69-9886-172fb5874047",
   "metadata": {},
   "outputs": [],
   "source": [
    "model = load_checkpoint('checkpoint.pth')\n",
    "print(model)"
   ]
  },
  {
   "cell_type": "code",
   "execution_count": null,
   "id": "e4ff448e-6cfb-4b47-845f-1811cd1af8d5",
   "metadata": {},
   "outputs": [],
   "source": [
    "model."
   ]
  },
  {
   "cell_type": "code",
   "execution_count": null,
   "id": "5751ac4c-523e-4129-827a-54116d09c36f",
   "metadata": {},
   "outputs": [],
   "source": []
  }
 ],
 "metadata": {
  "kernelspec": {
   "display_name": "Python 3 (ipykernel)",
   "language": "python",
   "name": "python3"
  },
  "language_info": {
   "codemirror_mode": {
    "name": "ipython",
    "version": 3
   },
   "file_extension": ".py",
   "mimetype": "text/x-python",
   "name": "python",
   "nbconvert_exporter": "python",
   "pygments_lexer": "ipython3",
   "version": "3.9.11"
  }
 },
 "nbformat": 4,
 "nbformat_minor": 5
}
